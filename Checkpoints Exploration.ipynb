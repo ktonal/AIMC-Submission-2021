{
 "cells": [
  {
   "cell_type": "markdown",
   "metadata": {},
   "source": [
    "### Connect to gdrive"
   ]
  },
  {
   "cell_type": "code",
   "execution_count": null,
   "metadata": {},
   "outputs": [],
   "source": [
    "from google.colab import drive\n",
    "drive.mount('/gdrive')\n",
    "%cd /gdrive/MyDrive"
   ]
  },
  {
   "cell_type": "markdown",
   "metadata": {},
   "source": [
    "### Install mimikit"
   ]
  },
  {
   "cell_type": "code",
   "execution_count": null,
   "metadata": {},
   "outputs": [],
   "source": [
    "!pip install git+https://github.com/ktonal/mimikit@experiment/new-data-again"
   ]
  },
  {
   "cell_type": "markdown",
   "metadata": {},
   "source": [
    "### cd into project's repo"
   ]
  },
  {
   "cell_type": "code",
   "execution_count": null,
   "metadata": {},
   "outputs": [],
   "source": [
    "%cd AIMC-Submission-2021"
   ]
  },
  {
   "cell_type": "markdown",
   "metadata": {},
   "source": [
    "## Imports and setup neptune"
   ]
  },
  {
   "cell_type": "code",
   "execution_count": null,
   "metadata": {},
   "outputs": [],
   "source": [
    "import matplotlib.pyplot as plt\n",
    "\n",
    "from mimikit.models.freqnet import FreqNet\n",
    "from mimikit.models.sample_rnn import SampleRNN\n",
    "from mimikit import audio\n",
    "\n",
    "# code is in the repo\n",
    "from project_utils import *\n",
    "\n",
    "\n",
    "\n",
    "# where we download states and build dbs :\n",
    "\n",
    "root_dir = \"/content/\""
   ]
  },
  {
   "cell_type": "markdown",
   "metadata": {},
   "source": [
    "## What's in the project"
   ]
  },
  {
   "cell_type": "code",
   "execution_count": null,
   "metadata": {},
   "outputs": [],
   "source": [
    "project_df = get_project_summary()\n",
    "project_df"
   ]
  },
  {
   "cell_type": "markdown",
   "metadata": {},
   "source": [
    "## download list of ids"
   ]
  },
  {
   "cell_type": "code",
   "execution_count": null,
   "metadata": {},
   "outputs": [],
   "source": [
    "my_exp_ids = []\n",
    "\n",
    "# or download them all :\n",
    "# my_exp_ids = project_df[\"id\"]\n",
    "\n",
    "download_states(root_dir, *my_exp_ids)"
   ]
  },
  {
   "cell_type": "markdown",
   "metadata": {},
   "source": [
    "## List of downloaded checkpoints (exp_id, epoch)"
   ]
  },
  {
   "cell_type": "code",
   "execution_count": null,
   "metadata": {
    "scrolled": true
   },
   "outputs": [],
   "source": [
    "all_checkpoints = list_downloaded_checkpoints(root_dir)\n",
    "\n",
    "all_checkpoints"
   ]
  },
  {
   "cell_type": "markdown",
   "metadata": {},
   "source": [
    "# Generate"
   ]
  },
  {
   "cell_type": "code",
   "execution_count": null,
   "metadata": {
    "scrolled": false
   },
   "outputs": [],
   "source": [
    "my_checkpoints = [(\"EXS-47\", 75), (\"EXS-55\", 25)]\n",
    "\n",
    "# or generate from them all !\n",
    "\n",
    "# my_checkpoints = all_checkpoints\n",
    "\n",
    "n_prompts = 4\n",
    "n_steps = 1000\n",
    "temperature = 1.\n",
    "\n",
    "for ckpt in my_checkpoints:\n",
    "    \n",
    "    model = load_exp_id_at_epochs(root_dir, ckpt)[0]\n",
    "    \n",
    "    print()\n",
    "    print(\"******** OUTPUT FOR\", ckpt[0], \"epoch =\", ckpt[1], \" **************\")\n",
    "    print()\n",
    "    \n",
    "    if not isinstance(model, FreqNet):\n",
    "        prompt = model.warm_up()[:n_prompts]\n",
    "    else:\n",
    "        prompt = model.random_train_batch()[0][:n_prompts]\n",
    "        \n",
    "    outpt = model.generate(prompt, n_steps, decode_outputs=True, temperature=temperature)\n",
    "    \n",
    "    for i in range(outpt.size(0)):\n",
    "        y = outpt[i].squeeze().cpu().numpy()\n",
    "        plt.figure(figsize=(20, 3))\n",
    "        plt.plot(y)\n",
    "        plt.show()\n",
    "        audio(y, sr=model.hparams.get(\"sr\", 22050), hop_length=model.hparams.get(\"hop_length\", 512))\n",
    "        "
   ]
  }
 ],
 "metadata": {
  "accelerator": "GPU",
  "kernelspec": {
   "display_name": "Python 3",
   "language": "python",
   "name": "python3"
  },
  "language_info": {
   "codemirror_mode": {
    "name": "ipython",
    "version": 3
   },
   "file_extension": ".py",
   "mimetype": "text/x-python",
   "name": "python",
   "nbconvert_exporter": "python",
   "pygments_lexer": "ipython3",
   "version": "3.7.6"
  }
 },
 "nbformat": 4,
 "nbformat_minor": 4
}
