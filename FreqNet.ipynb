{
 "cells": [
  {
   "cell_type": "markdown",
   "metadata": {},
   "source": [
    "### Connect to gdrive"
   ]
  },
  {
   "cell_type": "code",
   "execution_count": null,
   "metadata": {},
   "outputs": [],
   "source": [
    "from google.colab import drive\n",
    "drive.mount('/gdrive')\n",
    "%cd /gdrive/MyDrive"
   ]
  },
  {
   "cell_type": "markdown",
   "metadata": {},
   "source": [
    "### Install mimikit"
   ]
  },
  {
   "cell_type": "code",
   "execution_count": null,
   "metadata": {},
   "outputs": [],
   "source": [
    "!pip install git+https://github.com/ktonal/mimikit@experiment/new-data-again"
   ]
  },
  {
   "cell_type": "markdown",
   "metadata": {},
   "source": [
    "### cd into project's repo"
   ]
  },
  {
   "cell_type": "code",
   "execution_count": null,
   "metadata": {},
   "outputs": [],
   "source": [
    "%cd AIMC-Submission-2021"
   ]
  },
  {
   "cell_type": "markdown",
   "metadata": {},
   "source": [
    "## Imports and setup neptune"
   ]
  },
  {
   "cell_type": "code",
   "execution_count": null,
   "metadata": {},
   "outputs": [],
   "source": [
    "import matplotlib.pyplot as plt\n",
    "import torch \n",
    "\n",
    "from mimikit.models.freqnet import FreqNet\n",
    "from mimikit import get_trainer, audio, NeptuneConnector\n",
    "from mimikit.audios import transforms as A\n",
    "\n",
    "nc = NeptuneConnector(user=\"k-tonal\",\n",
    "                      setup={\n",
    "                          \"model\": \"experiment-Stimme\",\n",
    "                          \"trained\": \"experiment-Stimme/EXS-1\"\n",
    "                      })"
   ]
  },
  {
   "cell_type": "markdown",
   "metadata": {},
   "source": [
    "## Make db from list of files"
   ]
  },
  {
   "cell_type": "code",
   "execution_count": null,
   "metadata": {},
   "outputs": [],
   "source": [
    "from dbs import DBS\n",
    "\n",
    "# Add your files combinations in dbs.py and load them here\n",
    "\n",
    "DBS"
   ]
  },
  {
   "cell_type": "code",
   "execution_count": null,
   "metadata": {},
   "outputs": [],
   "source": [
    "##########  Options for creating DBS ###########\n",
    "\n",
    "N_FFT = 256\n",
    "HOP_LENGTH = 64\n",
    "\n",
    "# for instance :\n",
    "\n",
    "files = DBS[\"yodel\"]\n",
    "\n",
    "# or when you downloaded a model :\n",
    "\n",
    "# files = net.hparams.files\n",
    "\n",
    "# or directly so :\n",
    "\n",
    "# files = [\"Laura Newton.m4a\", \"Perotin.mp3\", \"Stimmung.mp3\"]\n",
    "\n",
    "###################################################\n",
    "\n",
    "files_paths = [\"./data/\" + file for file in files]\n",
    "\n",
    "db = FreqNet.db_class.make(\"/content/tmp-db.h5\", files=files_paths, sr=22050,\n",
    "                           n_fft=N_FFT, hop_length=HOP_LENGTH)\n",
    "\n",
    "db"
   ]
  },
  {
   "cell_type": "markdown",
   "metadata": {},
   "source": [
    "### download and load model"
   ]
  },
  {
   "cell_type": "code",
   "execution_count": null,
   "metadata": {},
   "outputs": [],
   "source": [
    "# nc.download_experiment(\"trained\", destination=\"/content/\", artifacts=\"states/\")\n",
    "\n",
    "# net = FreqNet.load_from_checkpoint(\"/content/\" + nc.setup[\"trained\"].split(\"/\")[-1] + \"/states/epoch=2.ckpt\", db=db)\n",
    "\n",
    "# net"
   ]
  },
  {
   "cell_type": "code",
   "execution_count": null,
   "metadata": {
    "scrolled": false
   },
   "outputs": [],
   "source": [
    "net = FreqNet(db=db,\n",
    "              \n",
    "              n_layers=(8,),\n",
    "              kernel_size=2,\n",
    "              \n",
    "              gate_dim=512,  # == model_dim\n",
    "              skip_dim=None,  # None == without skips, with skips == int (256, 512...)\n",
    "              residuals_dim=None, # None == without residuals, with reisduals == int (256, 512...)\n",
    "              groups=1,\n",
    "              accum_outputs=0,\n",
    "              pad_input=0,\n",
    "              \n",
    "              batch_seq_length=512,  # must be > als receptive_field\n",
    "              \n",
    "              max_lr=4e-4,\n",
    "              betas=(.9, .9),\n",
    "              div_factor=1.,\n",
    "              final_div_factor=1000.,\n",
    "              pct_start=0.,\n",
    "              batch_size=64,\n",
    "              input_dim=db.fft.shape[1],\n",
    "               )\n",
    "\n",
    "net.hparams.files = files\n",
    "net.hparams.model_class = \"FreqNet\"\n",
    "\n",
    "net.receptive_field, net.hparams"
   ]
  },
  {
   "cell_type": "markdown",
   "metadata": {},
   "source": [
    "### trainer"
   ]
  },
  {
   "cell_type": "code",
   "execution_count": null,
   "metadata": {},
   "outputs": [],
   "source": [
    "trainer = get_trainer(root_dir=\"/content/freqnet\",\n",
    "                      max_epochs=100,\n",
    "                      epochs=[99],\n",
    "                     # comment these if you don't want to track with neptune :\n",
    "                     model=net,\n",
    "                     neptune_connector=nc,\n",
    "                     )"
   ]
  },
  {
   "cell_type": "markdown",
   "metadata": {},
   "source": [
    "## train"
   ]
  },
  {
   "cell_type": "code",
   "execution_count": null,
   "metadata": {
    "scrolled": false
   },
   "outputs": [],
   "source": [
    "trainer.fit(net)\n",
    "\n",
    "# nc.upload_model(\"model\", net, artifacts=(\"states\", ))"
   ]
  },
  {
   "cell_type": "code",
   "execution_count": null,
   "metadata": {
    "scrolled": true
   },
   "outputs": [],
   "source": [
    "########### PLAY WITH THOSE : ###################\n",
    "\n",
    "dl = iter(net.datamodule.train_dataloader())\n",
    "inpt, trgt = next(dl)\n",
    "new = inpt[0:8].clone().to(\"cuda\")\n",
    "\n",
    "\n",
    "n_steps = 2000\n",
    "\n",
    "###############################################\n",
    "\n",
    "## LOS GEHT'S!\n",
    "\n",
    "new = net.generate(new, n_steps, decode_outputs=True)\n",
    "\n",
    "\n",
    "for i in range(new.size(0)):\n",
    "\n",
    "    y = new[i].squeeze().cpu().detach().numpy()\n",
    "    print(\"prompt number\", i)\n",
    "    plt.figure(figsize=(20, 4))\n",
    "    plt.plot(y)\n",
    "    plt.show()\n",
    "\n",
    "    audio(y, sr=22050)"
   ]
  },
  {
   "cell_type": "markdown",
   "metadata": {},
   "source": [
    "### log selected prompts to neptune"
   ]
  },
  {
   "cell_type": "code",
   "execution_count": null,
   "metadata": {},
   "outputs": [],
   "source": [
    "# ...\n",
    "from random import randint\n",
    "\n",
    "numbers_to_log = [0, 3, 5]\n",
    "\n",
    "for i in numbers_to_log:\n",
    "    y = new[i].squeeze().cpu().numpy()\n",
    "    \n",
    "    net.log_audio(\"output_id%i\" % randint(0, 1e5), y, sample_rate=16000)"
   ]
  },
  {
   "cell_type": "code",
   "execution_count": null,
   "metadata": {},
   "outputs": [],
   "source": []
  },
  {
   "cell_type": "code",
   "execution_count": null,
   "metadata": {},
   "outputs": [],
   "source": []
  }
 ],
 "metadata": {
  "accelerator": "GPU",
  "kernelspec": {
   "display_name": "Python 3",
   "language": "python",
   "name": "python3"
  },
  "language_info": {
   "codemirror_mode": {
    "name": "ipython",
    "version": 3
   },
   "file_extension": ".py",
   "mimetype": "text/x-python",
   "name": "python",
   "nbconvert_exporter": "python",
   "pygments_lexer": "ipython3",
   "version": "3.7.6"
  }
 },
 "nbformat": 4,
 "nbformat_minor": 4
}
